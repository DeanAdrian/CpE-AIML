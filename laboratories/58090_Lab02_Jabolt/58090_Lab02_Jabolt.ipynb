{
  "nbformat": 4,
  "nbformat_minor": 0,
  "metadata": {
    "colab": {
      "name": "58090_Lab02_Jabolt.ipynb",
      "provenance": [],
      "toc_visible": true,
      "include_colab_link": true
    },
    "kernelspec": {
      "name": "python3",
      "display_name": "Python 3"
    },
    "language_info": {
      "name": "python"
    }
  },
  "cells": [
    {
      "cell_type": "markdown",
      "metadata": {
        "id": "view-in-github",
        "colab_type": "text"
      },
      "source": [
        "<a href=\"https://colab.research.google.com/github/DeanAdrian/CpE-AIML/blob/main/laboratories/58090_Lab02_Jabolt/58090_Lab02_Jabolt.ipynb\" target=\"_parent\"><img src=\"https://colab.research.google.com/assets/colab-badge.svg\" alt=\"Open In Colab\"/></a>"
      ]
    },
    {
      "cell_type": "markdown",
      "metadata": {
        "id": "ODsJ4ZqNqqQN"
      },
      "source": [
        "# <div align=\"center\">**Lab 02 - Linear Algebra Review**</div> \n",
        "\n",
        "| Submitted By:          | Instructor:               |\n",
        "|------------------------|---------------------------|\n",
        "| Baluyot, John Michael  | Engr. Dylan Josh D. Lopez |\n",
        "| Barona, Federico III   |                           | \n",
        "| Estocapio, Dean Adrian |                           |\n",
        "| Garcia, Lance Gabriel  |                           | "
      ]
    },
    {
      "cell_type": "code",
      "metadata": {
        "id": "yt7gRmsaDneO"
      },
      "source": [
        "import numpy as np\n",
        "import pandas as pd"
      ],
      "execution_count": null,
      "outputs": []
    },
    {
      "cell_type": "markdown",
      "metadata": {
        "id": "bYuikh0h7HY5"
      },
      "source": [
        "### Case 2.a"
      ]
    },
    {
      "cell_type": "markdown",
      "metadata": {
        "id": "_OF7VDMmeKJI"
      },
      "source": [
        ">This given function uses a numpy function \"np.linalg.norm\" that gets the magnitude of the vector "
      ]
    },
    {
      "cell_type": "code",
      "metadata": {
        "id": "fWgHEmuD1ld6"
      },
      "source": [
        "def vector_magnitude_np(vector):\n",
        "  magnitude = np.linalg.norm(vector)\n",
        "  return magnitude"
      ],
      "execution_count": null,
      "outputs": []
    },
    {
      "cell_type": "markdown",
      "metadata": {
        "id": "Z_KBc9VqeM8X"
      },
      "source": [
        "> Getting the vector magnitude without use of any numpy functions"
      ]
    },
    {
      "cell_type": "markdown",
      "metadata": {
        "id": "IlGbSJI8eQL9"
      },
      "source": [
        ">This given function shares the same function from the previous function without using any numpy function\n",
        "\n",
        ">The logic behind the function itself, is it breaks down all the possible operation needed in order to evaluate the final answer or magnitude of the given vector\n",
        "\n",
        "> the function also evaluates whether the given vector has 1 dimension or more before taking appropriate operation\n"
      ]
    },
    {
      "cell_type": "code",
      "metadata": {
        "id": "262rLdpW1s0V"
      },
      "source": [
        "def  vector_magnitude(vector):\n",
        "  magnitude = 0\n",
        "  if vector.ndim == 1:\n",
        "    for values in vector:\n",
        "      values = values*values\n",
        "      magnitude = magnitude + values\n",
        "    magnitude = magnitude**(1/2)\n",
        "  else:\n",
        "    for values in vector:\n",
        "      values = values@values\n",
        "      magnitude = magnitude + values\n",
        "    magnitude = magnitude**(1/2)\n",
        "  return magnitude"
      ],
      "execution_count": null,
      "outputs": []
    },
    {
      "cell_type": "markdown",
      "metadata": {
        "id": "pMBlOcj5egr9"
      },
      "source": [
        "##### Given:"
      ]
    },
    {
      "cell_type": "code",
      "metadata": {
        "id": "qhf8yV7c1u_O"
      },
      "source": [
        "u = np.array([1,2,3])         # 1 dimensional vector\n",
        "v = np.array([4,2,-3])\n",
        "t = np.array([[1,2,3],        # 2 dimensional vector\n",
        "              [1,2,3]])"
      ],
      "execution_count": null,
      "outputs": []
    },
    {
      "cell_type": "markdown",
      "metadata": {
        "id": "_hvp0ehpelN3"
      },
      "source": [
        "##### Results"
      ]
    },
    {
      "cell_type": "code",
      "metadata": {
        "colab": {
          "base_uri": "https://localhost:8080/"
        },
        "id": "pCVXLIus1v39",
        "outputId": "72e1ecad-87d5-47d2-c1e5-e41bac7fe696"
      },
      "source": [
        "vector_magnitude_np(u)"
      ],
      "execution_count": null,
      "outputs": [
        {
          "output_type": "execute_result",
          "data": {
            "text/plain": [
              "3.7416573867739413"
            ]
          },
          "metadata": {},
          "execution_count": 6
        }
      ]
    },
    {
      "cell_type": "code",
      "metadata": {
        "colab": {
          "base_uri": "https://localhost:8080/"
        },
        "id": "FEQIvmhgervi",
        "outputId": "f81c8c30-c346-4a82-e993-e1306834ea91"
      },
      "source": [
        "vector_magnitude_np(t) "
      ],
      "execution_count": null,
      "outputs": [
        {
          "output_type": "execute_result",
          "data": {
            "text/plain": [
              "5.291502622129181"
            ]
          },
          "metadata": {},
          "execution_count": 8
        }
      ]
    },
    {
      "cell_type": "code",
      "metadata": {
        "colab": {
          "base_uri": "https://localhost:8080/"
        },
        "id": "XVMW2kTr13uO",
        "outputId": "d4b5998b-bc49-4f56-e870-101558c53e71"
      },
      "source": [
        "vector_magnitude(u)"
      ],
      "execution_count": null,
      "outputs": [
        {
          "output_type": "execute_result",
          "data": {
            "text/plain": [
              "3.7416573867739413"
            ]
          },
          "metadata": {},
          "execution_count": 7
        }
      ]
    },
    {
      "cell_type": "code",
      "metadata": {
        "colab": {
          "base_uri": "https://localhost:8080/"
        },
        "id": "l1KNqGsNeuHc",
        "outputId": "aab10c56-9a94-4491-a762-244a55d9b449"
      },
      "source": [
        "vector_magnitude(t)"
      ],
      "execution_count": null,
      "outputs": [
        {
          "output_type": "execute_result",
          "data": {
            "text/plain": [
              "5.291502622129181"
            ]
          },
          "metadata": {},
          "execution_count": 9
        }
      ]
    },
    {
      "cell_type": "markdown",
      "metadata": {
        "id": "aXA2xRkTHjvn"
      },
      "source": [
        "### Case 4.c\n",
        "\n",
        "\n",
        "Problem 4.c: Computational Programming (Also Laboratory 2)\n",
        "\n",
        "Encode Equations 3.1 to 3.4 as the class LRegression wherein:\n",
        "\n",
        "*   LRegression should be instantiated with a dataset $X$, a ground truth vector $y$, and a parameter vector $\\theta$. Each parameter should have a data type of numpy.array.\n",
        "*   It should further have methodsreflecting to at least the four (4) aforementioned equations. Each should have a return value.\n",
        "\n"
      ]
    },
    {
      "cell_type": "code",
      "metadata": {
        "id": "52wI0afmFPB0"
      },
      "source": [
        "class LRegression():\n",
        "  def __init__(self, dataSet, y_GndTruth, thetaVector):\n",
        "    self.dataSet = dataSet\n",
        "    self.y_GndTruth = y_GndTruth\n",
        "    self.thetaVector = thetaVector\n",
        "\n",
        "  def getVectorMagnitude(self):\n",
        "    magnitude = np.linalg.norm(self.dataSet)\n",
        "    return magnitude\n",
        "\n",
        "  def getZ(self): ## Eq. 3.1\n",
        "    self.dataSetT = self.dataSet.transpose()\n",
        "    self.z = np.dot(self.dataSetT, self.thetaVector)\n",
        "    return self.z \n",
        "\n",
        "  def getActivation (self): ## Eq. 3.2 & 3.3\n",
        "    self.activation = 1/(1+np.exp(-self.z))\n",
        "    return self.activation\n",
        "\n",
        "  def getLoss(self): ## Eq. 3.4\n",
        "    m = self.y_GndTruth.shape[0]\n",
        "    yt = self.y_GndTruth.transpose()\n",
        "\n",
        "    lossEq= (-1*yt)*(np.log(self.activation)) - ((1-self.y_GndTruth).transpose())*(np.log(1-self.activation))\n",
        "    self.J = (1/m)*lossEq\n",
        "    return self.J"
      ],
      "execution_count": null,
      "outputs": []
    },
    {
      "cell_type": "markdown",
      "metadata": {
        "id": "9xeGpJ_Rey9V"
      },
      "source": [
        "##### Given:"
      ]
    },
    {
      "cell_type": "code",
      "metadata": {
        "id": "VX-eVJopFRNo"
      },
      "source": [
        "X = np.random.random((300,5))*100\n",
        "theta = np.random.random((300,1))\n",
        "y = np.random.randint(0,2,(300,1))"
      ],
      "execution_count": null,
      "outputs": []
    },
    {
      "cell_type": "markdown",
      "metadata": {
        "id": "IJkhBpoAe4Fo"
      },
      "source": [
        "##### Results:"
      ]
    },
    {
      "cell_type": "code",
      "metadata": {
        "id": "rADamgaYFfsj"
      },
      "source": [
        "Regression = LRegression(X, y, theta)"
      ],
      "execution_count": null,
      "outputs": []
    },
    {
      "cell_type": "code",
      "metadata": {
        "colab": {
          "base_uri": "https://localhost:8080/"
        },
        "id": "KM2jP4IeFhbG",
        "outputId": "d680b7ff-fd55-4a36-f38b-490521639d27"
      },
      "source": [
        "Regression.getVectorMagnitude()"
      ],
      "execution_count": null,
      "outputs": [
        {
          "output_type": "execute_result",
          "data": {
            "text/plain": [
              "2241.764672613696"
            ]
          },
          "metadata": {},
          "execution_count": 43
        }
      ]
    },
    {
      "cell_type": "code",
      "metadata": {
        "colab": {
          "base_uri": "https://localhost:8080/"
        },
        "id": "noccjoVjFjBB",
        "outputId": "66d0700f-d0dd-4938-c6fb-17bc4b947a12"
      },
      "source": [
        "Regression.getZ()"
      ],
      "execution_count": null,
      "outputs": [
        {
          "output_type": "execute_result",
          "data": {
            "text/plain": [
              "array([[7339.68140797],\n",
              "       [7855.70038308],\n",
              "       [6813.07696753],\n",
              "       [7102.82485885],\n",
              "       [7789.00840542]])"
            ]
          },
          "metadata": {},
          "execution_count": 44
        }
      ]
    },
    {
      "cell_type": "code",
      "metadata": {
        "colab": {
          "base_uri": "https://localhost:8080/"
        },
        "id": "r1P8wPAVFk1-",
        "outputId": "7c14d0f0-0189-4e54-d110-74363a850135"
      },
      "source": [
        "Regression.getActivation()"
      ],
      "execution_count": null,
      "outputs": [
        {
          "output_type": "execute_result",
          "data": {
            "text/plain": [
              "array([[1.],\n",
              "       [1.],\n",
              "       [1.],\n",
              "       [1.],\n",
              "       [1.]])"
            ]
          },
          "metadata": {},
          "execution_count": 45
        }
      ]
    },
    {
      "cell_type": "code",
      "metadata": {
        "colab": {
          "base_uri": "https://localhost:8080/"
        },
        "id": "c6JhQTiaFmxF",
        "outputId": "5c803938-2ce2-44b3-bd61-8c2cd29d1511"
      },
      "source": [
        "Regression.getLoss()"
      ],
      "execution_count": null,
      "outputs": [
        {
          "output_type": "stream",
          "name": "stderr",
          "text": [
            "/usr/local/lib/python3.7/dist-packages/ipykernel_launcher.py:24: RuntimeWarning: divide by zero encountered in log\n",
            "/usr/local/lib/python3.7/dist-packages/ipykernel_launcher.py:24: RuntimeWarning: invalid value encountered in multiply\n"
          ]
        },
        {
          "output_type": "execute_result",
          "data": {
            "text/plain": [
              "array([[inf, nan, inf, ..., nan, nan, nan],\n",
              "       [inf, nan, inf, ..., nan, nan, nan],\n",
              "       [inf, nan, inf, ..., nan, nan, nan],\n",
              "       [inf, nan, inf, ..., nan, nan, nan],\n",
              "       [inf, nan, inf, ..., nan, nan, nan]])"
            ]
          },
          "metadata": {},
          "execution_count": 46
        }
      ]
    },
    {
      "cell_type": "code",
      "metadata": {
        "id": "7fHvSHuc18L2"
      },
      "source": [
        ""
      ],
      "execution_count": null,
      "outputs": []
    }
  ]
}